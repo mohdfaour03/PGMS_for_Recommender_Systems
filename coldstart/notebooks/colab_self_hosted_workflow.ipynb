{
 "cells": [
  {
   "cell_type": "markdown",
   "metadata": {},
   "source": [
    "# Cold-Start Recommender: Colab Workflow\n",
    "\n",
    "This notebook clones the project, downloads MovieLens interactions, prepares the cold-start splits, and trains all content models with GPU acceleration (if available). Upload only this notebook to Colab, run the cells from top to bottom, and you will get a full medium-dataset benchmark."
   ]
  },
  {
   "cell_type": "code",
   "execution_count": null,
   "metadata": {},
   "outputs": [],
   "source": [
    "from pathlib import Path\n",
    "\n",
    "PROJECT_URL = \"https://github.com/mohdfaour03/PGMS_for_Recommender_Systems.git\"\n",
    "PROJECT_ROOT = Path(\"/content/PGMS_for_Recommender_Systems\")\n",
    "\n",
    "if not PROJECT_ROOT.exists():\n",
    "    !git clone $PROJECT_URL $PROJECT_ROOT\n",
    "else:\n",
    "    print(f\"Repository already present at {PROJECT_ROOT}\")\n",
    "\n",
    "%cd /content/PGMS_for_Recommender_Systems"
   ]
  },
  {
   "cell_type": "code",
   "execution_count": null,
   "metadata": {},
   "outputs": [],
   "source": [
    "import sys\n",
    "from pathlib import Path\n",
    "\n",
    "PROJECT_ROOT = Path(\"/content/PGMS_for_Recommender_Systems\").resolve()\n",
    "if str(PROJECT_ROOT) not in sys.path:\n",
    "    sys.path.insert(0, str(PROJECT_ROOT))\n",
    "\n",
    "from coldstart.src.notebook_utils import build_interaction_frame, _read_simple_yaml\n",
    "from coldstart.src import data_io, pipeline"
   ]
  },
  {
   "cell_type": "markdown",
   "metadata": {},
   "source": [
    "## Configure the run"
   ]
  },
  {
   "cell_type": "code",
   "execution_count": null,
   "metadata": {},
   "outputs": [],
   "source": [
    "from datetime import datetime\n",
    "\n",
    "CONFIG_PATH = PROJECT_ROOT / \"coldstart\" / \"configs\" / \"base.yaml\"\n",
    "config = _read_simple_yaml(CONFIG_PATH)\n",
    "\n",
    "# --- User-tunable parameters ---\n",
    "dataset = \"medium\"          # \"small\" or \"medium\"\n",
    "interaction_limit = 300000   # set to None for full dataset\n",
    "cold_item_frac = 0.2\n",
    "seed = 42\n",
    "model_choice = \"all\"        # \"ctrlite\", \"a2f\", \"ctpf\", \"cdl\", \"hft\", or \"all\"\n",
    "run_adaptive = False         # only relevant for ctrlite\n",
    "prefer_gpu = True\n",
    "\n",
    "k_factors = 16\n",
    "k_eval = 5\n",
    "\n",
    "DATA_DIR = PROJECT_ROOT / \"coldstart\" / \"data\"\n",
    "DATA_DIR.mkdir(parents=True, exist_ok=True)\n",
    "DATA_PATH = DATA_DIR / f\"movielens_latest_{dataset}.csv\"\n",
    "\n",
    "OUTPUT_ROOT = PROJECT_ROOT / \"coldstart\" / \"output_colab\"\n",
    "OUTPUT_ROOT.mkdir(parents=True, exist_ok=True)\n",
    "RUN_DIR = OUTPUT_ROOT / f\"colab_run_{datetime.now().strftime('%Y%m%d_%H%M%S')}\"\n",
    "RUN_DIR.mkdir(parents=True, exist_ok=True)\n",
    "\n",
    "print(f\"Data path: {DATA_PATH}\")\n",
    "print(f\"Run directory: {RUN_DIR}\")"
   ]
  },
  {
   "cell_type": "code",
   "execution_count": null,
   "metadata": {},
   "outputs": [],
   "source": [
    "if not DATA_PATH.exists():\n",
    "    print(f\"Downloading MovieLens '{dataset}' interactions...\")\n",
    "    frame = build_interaction_frame(dataset=dataset, limit=interaction_limit)\n",
    "    frame.to_csv(DATA_PATH, index=False)\n",
    "    print(f\"Saved dataset to {DATA_PATH}\")\n",
    "else:\n",
    "    print(f\"Dataset already present at {DATA_PATH}\")"
   ]
  },
  {
   "cell_type": "code",
   "execution_count": null,
   "metadata": {},
   "outputs": [],
   "source": [
    "tfidf_params = config.get(\"tfidf\", {})\n",
    "prepare_limit = interaction_limit if interaction_limit else None\n",
    "\n",
    "pipeline.prepare_dataset(\n",
    "    DATA_PATH,\n",
    "    RUN_DIR,\n",
    "    tfidf_params=tfidf_params,\n",
    "    cold_item_frac=cold_item_frac,\n",
    "    seed=seed,\n",
    "    interaction_limit=prepare_limit,\n",
    ")\n",
    "\n",
    "sorted(path.name for path in RUN_DIR.iterdir())"
   ]
  },
  {
   "cell_type": "code",
   "execution_count": null,
   "metadata": {},
   "outputs": [],
   "source": [
    "mf_cfg = config.get(\"mf\", {})\n",
    "ctrlite_cfg = config.get(\"ctrlite\", {})\n",
    "a2f_cfg = config.get(\"a2f\", {})\n",
    "ctpf_cfg = config.get(\"ctpf\", {})\n",
    "cdl_cfg = config.get(\"cdl\", {})\n",
    "hft_cfg = config.get(\"hft\", {})\n",
    "\n",
    "mf_runtime_cfg = {\n",
    "    \"batch_size\": 8192,\n",
    "    \"score_batch_size\": 8192,\n",
    "    \"infer_batch_size\": 8192,\n",
    "    \"ctrlite_batch_size\": 4096,\n",
    "}\n",
    "\n",
    "results = pipeline.train_and_evaluate_content_model(\n",
    "    RUN_DIR,\n",
    "    k_factors=k_factors,\n",
    "    k_eval=k_eval,\n",
    "    mf_reg=float(mf_cfg.get(\"reg\", 0.02)),\n",
    "    mf_iters=int(mf_cfg.get(\"iters\", 30)),\n",
    "    mf_lr=float(mf_cfg.get(\"lr\", 0.02)),\n",
    "    seed=seed,\n",
    "    ctrlite_reg=float(ctrlite_cfg.get(\"reg\", 0.01)),\n",
    "    ctrlite_lr=float(ctrlite_cfg.get(\"lr\", 0.1)),\n",
    "    ctrlite_iters=int(ctrlite_cfg.get(\"iters\", 80)),\n",
    "    adaptive=run_adaptive,\n",
    "    model=model_choice,\n",
    "    a2f_cfg=a2f_cfg,\n",
    "    ctpf_cfg=ctpf_cfg,\n",
    "    cdl_cfg=cdl_cfg,\n",
    "    hft_cfg=hft_cfg,\n",
    "    backend=\"torch\",\n",
    "    prefer_gpu=prefer_gpu,\n",
    "    mf_cfg=mf_runtime_cfg,\n",
    ")\n",
    "\n",
    "import json\n",
    "print(json.dumps(results, indent=2))"
   ]
  },
  {
   "cell_type": "code",
   "execution_count": null,
   "metadata": {},
   "outputs": [],
   "source": [
    "for path in sorted(RUN_DIR.rglob(\"*\")):\n",
    "    if path.is_file():\n",
    "        rel = path.relative_to(PROJECT_ROOT)\n",
    "        size_kb = path.stat().st_size / 1024\n",
    "        print(f\"{rel} ({size_kb:.1f} KB)\")"
   ]
  }
 ],
 "metadata": {
  "kernelspec": {
   "display_name": "Python 3",
   "language": "python",
   "name": "python3"
  },
  "language_info": {
   "name": "python",
   "version": "3.10"
  }
 },
 "nbformat": 4,
 "nbformat_minor": 5
}
