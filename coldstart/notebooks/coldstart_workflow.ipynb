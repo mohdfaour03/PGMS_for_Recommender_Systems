{
 "cells": [
  {
   "cell_type": "markdown",
   "id": "d4c7b5b5",
   "metadata": {},
   "source": [
    "# Cold-Start Recommender Workflow\n",
    "This notebook walks through preparing a strict cold-start split, extracting text features, and comparing several content-to-factor models (CTR-lite, A2F, CTPF, CDL, HFT).\n"
   ]
  },
  {
   "cell_type": "markdown",
   "id": "a651a5c5",
   "metadata": {},
   "source": [
    "## Notebook outline\n",
    "1. Configure paths and parameters.\n",
    "2. Prepare warm/cold assets with TF-IDF features.\n",
    "3. Train multiple content models and evaluate on cold items.\n",
    "4. Inspect saved artefacts and metrics.\n"
   ]
  },
  {
   "cell_type": "code",
   "execution_count": 19,
   "id": "8eba43b0",
   "metadata": {},
   "outputs": [
    {
     "data": {
      "text/plain": [
       "(WindowsPath('C:/Users/user/PGMS_Rec_Systems/PGMS_for_Recommender_Systems/coldstart/data/movielens_latest_small.csv'),\n",
       " WindowsPath('C:/Users/user/PGMS_Rec_Systems/PGMS_for_Recommender_Systems/coldstart/output/notebook_run_20251029_223545'))"
      ]
     },
     "execution_count": 19,
     "metadata": {},
     "output_type": "execute_result"
    }
   ],
   "source": [
    "from datetime import datetime\n",
    "from pathlib import Path\n",
    "import sys\n",
    "\n",
    "\n",
    "def locate_project_root() -> Path:\n",
    "    current = Path.cwd().resolve()\n",
    "    for candidate in (current, *current.parents):\n",
    "        if (candidate / \"coldstart\" / \"src\").exists():\n",
    "            return candidate\n",
    "    raise RuntimeError(\"Cannot locate project root containing 'coldstart/src'.\")\n",
    "\n",
    "\n",
    "PROJECT_ROOT = locate_project_root()\n",
    "if str(PROJECT_ROOT) not in sys.path:\n",
    "    sys.path.insert(0, str(PROJECT_ROOT))\n",
    "\n",
    "from coldstart.src.notebook_utils import _read_simple_yaml\n",
    "from coldstart.src.notebook_utils import build_interaction_frame\n",
    "from coldstart.src import data_io, pipeline\n",
    "\n",
    "DATA_DIR = PROJECT_ROOT / \"coldstart\" / \"data\"\n",
    "DATA_PATH = DATA_DIR / \"movielens_latest_small.csv\"\n",
    "CONFIG_PATH = PROJECT_ROOT / \"coldstart\" / \"configs\" / \"base.yaml\"\n",
    "OUTPUT_ROOT = PROJECT_ROOT / \"coldstart\" / \"output\"\n",
    "OUTPUT_ROOT.mkdir(parents=True, exist_ok=True)\n",
    "\n",
    "if not DATA_PATH.exists():\n",
    "    DATA_DIR.mkdir(parents=True, exist_ok=True)\n",
    "    df = build_interaction_frame(dataset=\"small\")\n",
    "    df.to_csv(DATA_PATH, index=False)\n",
    "    print(f\"Downloaded MovieLens latest-small interactions to {DATA_PATH}\")\n",
    "\n",
    "timestamp = datetime.now().strftime(\"%Y%m%d_%H%M%S\")\n",
    "RUN_DIR = OUTPUT_ROOT / f\"notebook_run_{timestamp}\"\n",
    "RUN_DIR.mkdir(parents=True, exist_ok=True)\n",
    "\n",
    "DATA_PATH, RUN_DIR\n"
   ]
  },
  {
   "cell_type": "markdown",
   "id": "447c0a22",
   "metadata": {},
   "source": [
    "## Prepare the cold-start split\n",
    "We parse the lightweight configuration file, run the strict cold-start split, and build TF-IDF features on warm item text only.\n"
   ]
  },
  {
   "cell_type": "code",
   "execution_count": 20,
   "id": "50139869",
   "metadata": {},
   "outputs": [
    {
     "name": "stdout",
     "output_type": "stream",
     "text": [
      "Loaded 100836 interactions from C:\\Users\\user\\PGMS_Rec_Systems\\PGMS_for_Recommender_Systems\\coldstart\\data\\movielens_latest_small.csv.\n",
      "Dataset contains 610 unique users and 9724 unique items.\n",
      "Using 100836 interactions out of the source data (limit=1200000).\n",
      "TF-IDF fit on warm only\n",
      "Warm text features shape: (7779, 128)\n",
      "Cold text features shape: (1945, 128)\n"
     ]
    },
    {
     "data": {
      "text/plain": [
       "['cold_interactions.csv',\n",
       " 'cold_item_ids.json',\n",
       " 'cold_item_ids.txt',\n",
       " 'cold_item_text_features.json',\n",
       " 'tfidf_state.json',\n",
       " 'warm_interactions.csv',\n",
       " 'warm_item_ids.json',\n",
       " 'warm_item_text_features.json']"
      ]
     },
     "execution_count": 20,
     "metadata": {},
     "output_type": "execute_result"
    }
   ],
   "source": [
    "from importlib import reload\n",
    "from coldstart.src.models import ctpf, hft\n",
    "reload(data_io)\n",
    "reload(ctpf)\n",
    "reload(hft)\n",
    "reload(pipeline)\n",
    "\n",
    "config = _read_simple_yaml(CONFIG_PATH)\n",
    "tfidf_params = config.get(\"tfidf\", {})\n",
    "prepare_cfg = config.get(\"prepare\", {})\n",
    "\n",
    "cold_item_frac = 0.2\n",
    "seed = 42\n",
    "interaction_limit = int(prepare_cfg.get(\"interaction_limit\", 0) or 0)\n",
    "\n",
    "pipeline.prepare_dataset(\n",
    "    DATA_PATH,\n",
    "    RUN_DIR,\n",
    "    tfidf_params=tfidf_params,\n",
    "    cold_item_frac=cold_item_frac,\n",
    "    seed=seed,\n",
    "    interaction_limit=interaction_limit if interaction_limit else None,\n",
    ")\n",
    "sorted(p.name for p in RUN_DIR.iterdir())\n"
   ]
  },
  {
   "cell_type": "markdown",
   "id": "b1ce945e",
   "metadata": {},
   "source": [
    "## Train and evaluate\n",
    "Compare CTR-lite, A2F, CTPF, CDL, and HFT on the prepared cold-start split. Set `model_choice` to `'all'` to evaluate every option.\n"
   ]
  },
  {
   "cell_type": "code",
   "execution_count": 21,
   "id": "27b44f19",
   "metadata": {},
   "outputs": [
    {
     "name": "stdout",
     "output_type": "stream",
     "text": [
      "Loaded 80541 interactions from C:\\Users\\user\\PGMS_Rec_Systems\\PGMS_for_Recommender_Systems\\coldstart\\output\\notebook_run_20251029_223545\\warm_interactions.csv.\n",
      "Dataset contains 610 unique users and 7779 unique items.\n",
      "Loaded 20295 interactions from C:\\Users\\user\\PGMS_Rec_Systems\\PGMS_for_Recommender_Systems\\coldstart\\output\\notebook_run_20251029_223545\\cold_interactions.csv.\n",
      "Dataset contains 609 unique users and 1945 unique items.\n"
     ]
    },
    {
     "data": {
      "text/plain": [
       "{'ctrlite': {'hit@5': 0.047619047619047616,\n",
       "  'ndcg@5': 0.01063449180480855,\n",
       "  'evaluated_users': 609},\n",
       " 'a2f': {'hit@5': 0.09688013136288999,\n",
       "  'ndcg@5': 0.020248667237844895,\n",
       "  'evaluated_users': 609},\n",
       " 'ctpf': {'hit@5': 0.10016420361247948,\n",
       "  'ndcg@5': 0.03560659161553215,\n",
       "  'evaluated_users': 609},\n",
       " 'cdl': {'hit@5': 0.03284072249589491,\n",
       "  'ndcg@5': 0.005631455778430841,\n",
       "  'evaluated_users': 609},\n",
       " 'hft': {'hit@5': 0.10016420361247948,\n",
       "  'ndcg@5': 0.032112409367314576,\n",
       "  'evaluated_users': 609}}"
      ]
     },
     "execution_count": 21,
     "metadata": {},
     "output_type": "execute_result"
    }
   ],
   "source": [
    "model_choice = \"all\"  # options: 'ctrlite', 'a2f', 'ctpf', 'cdl', 'hft', 'all'\n",
    "run_adaptive = False  # only used by ctrlite; ignored otherwise\n",
    "mf_cfg = config.get(\"mf\", {})\n",
    "ctrlite_cfg = config.get(\"ctrlite\", {})\n",
    "a2f_cfg = config.get(\"a2f\", {})\n",
    "ctpf_cfg = config.get(\"ctpf\", {})\n",
    "cdl_cfg = config.get(\"cdl\", {})\n",
    "hft_cfg = config.get(\"hft\", {})\n",
    "\n",
    "results = pipeline.train_and_evaluate_content_model(\n",
    "    RUN_DIR,\n",
    "    k_factors=16,\n",
    "    k_eval=5,\n",
    "    mf_reg=float(mf_cfg.get(\"reg\", 0.02)),\n",
    "    mf_iters=int(mf_cfg.get(\"iters\", 30)),\n",
    "    mf_lr=float(mf_cfg.get(\"lr\", 0.02)),\n",
    "    seed=seed,\n",
    "    ctrlite_reg=float(ctrlite_cfg.get(\"reg\", 0.01)),\n",
    "    ctrlite_lr=float(ctrlite_cfg.get(\"lr\", 0.1)),\n",
    "    ctrlite_iters=int(ctrlite_cfg.get(\"iters\", 80)),\n",
    "    adaptive=run_adaptive and model_choice == \"ctrlite\",\n",
    "    model=model_choice,\n",
    "    a2f_cfg=a2f_cfg,\n",
    "    ctpf_cfg=ctpf_cfg,\n",
    "    cdl_cfg=cdl_cfg,\n",
    "    hft_cfg=hft_cfg,\n",
    ")\n",
    "results\n"
   ]
  },
  {
   "cell_type": "code",
   "execution_count": 22,
   "id": "2c78965e",
   "metadata": {},
   "outputs": [
    {
     "name": "stdout",
     "output_type": "stream",
     "text": [
      "Loaded 80541 interactions from C:\\Users\\user\\PGMS_Rec_Systems\\PGMS_for_Recommender_Systems\\coldstart\\output\\notebook_run_20251029_223545\\warm_interactions.csv.\n",
      "Dataset contains 610 unique users and 7779 unique items.\n"
     ]
    },
    {
     "data": {
      "text/plain": [
       "[{'user_id': '1',\n",
       "  'item_id': '1',\n",
       "  'rating_or_y': 4.0,\n",
       "  'item_text': 'Toy Story (1995) Adventure Animation Children Comedy Fantasy'},\n",
       " {'user_id': '1',\n",
       "  'item_id': '3',\n",
       "  'rating_or_y': 4.0,\n",
       "  'item_text': 'Grumpier Old Men (1995) Comedy Romance'},\n",
       " {'user_id': '1',\n",
       "  'item_id': '6',\n",
       "  'rating_or_y': 4.0,\n",
       "  'item_text': 'Heat (1995) Action Crime Thriller'}]"
      ]
     },
     "execution_count": 22,
     "metadata": {},
     "output_type": "execute_result"
    }
   ],
   "source": [
    "warm_rows = data_io.load_interactions(RUN_DIR / \"warm_interactions.csv\")\n",
    "warm_rows[:3]\n"
   ]
  },
  {
   "cell_type": "code",
   "execution_count": 23,
   "id": "0e39a64f",
   "metadata": {},
   "outputs": [
    {
     "name": "stdout",
     "output_type": "stream",
     "text": [
      "coldstart\\output\\notebook_run_20251029_223545\\cold_interactions.csv (1239615 bytes)\n",
      "coldstart\\output\\notebook_run_20251029_223545\\cold_item_ids.json (22354 bytes)\n",
      "coldstart\\output\\notebook_run_20251029_223545\\cold_item_ids.txt (12626 bytes)\n",
      "coldstart\\output\\notebook_run_20251029_223545\\cold_item_text_features.json (1395387 bytes)\n",
      "coldstart\\output\\notebook_run_20251029_223545\\models\\U.json (92740 bytes)\n",
      "coldstart\\output\\notebook_run_20251029_223545\\models\\V_warm.json (1182263 bytes)\n",
      "coldstart\\output\\notebook_run_20251029_223545\\tfidf_state.json (6049 bytes)\n",
      "coldstart\\output\\notebook_run_20251029_223545\\warm_interactions.csv (4871313 bytes)\n",
      "coldstart\\output\\notebook_run_20251029_223545\\warm_item_ids.json (89748 bytes)\n",
      "coldstart\\output\\notebook_run_20251029_223545\\warm_item_text_features.json (5591572 bytes)\n"
     ]
    }
   ],
   "source": [
    "for path in sorted(RUN_DIR.rglob(\"*\")):\n",
    "    if path.is_file():\n",
    "        rel_path = path.relative_to(PROJECT_ROOT)\n",
    "        size = path.stat().st_size\n",
    "        print(f\"{rel_path} ({size} bytes)\")\n"
   ]
  }
 ],
 "metadata": {
  "kernelspec": {
   "display_name": "Python 3",
   "language": "python",
   "name": "python3"
  },
  "language_info": {
   "codemirror_mode": {
    "name": "ipython",
    "version": 3
   },
   "file_extension": ".py",
   "mimetype": "text/x-python",
   "name": "python",
   "nbconvert_exporter": "python",
   "pygments_lexer": "ipython3",
   "version": "3.13.7"
  }
 },
 "nbformat": 4,
 "nbformat_minor": 5
}
